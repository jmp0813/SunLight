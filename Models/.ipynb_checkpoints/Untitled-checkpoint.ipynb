{
 "cells": [
  {
   "cell_type": "code",
   "execution_count": 19,
   "metadata": {},
   "outputs": [],
   "source": [
    "import numpy as np\n",
    "import pandas as pd\n",
    "import random"
   ]
  },
  {
   "cell_type": "code",
   "execution_count": 72,
   "metadata": {},
   "outputs": [
    {
     "ename": "TypeError",
     "evalue": "data type not understood",
     "output_type": "error",
     "traceback": [
      "\u001b[1;31m---------------------------------------------------------------------------\u001b[0m",
      "\u001b[1;31mTypeError\u001b[0m                                 Traceback (most recent call last)",
      "\u001b[1;32m<ipython-input-72-81d83c50b350>\u001b[0m in \u001b[0;36m<module>\u001b[1;34m\u001b[0m\n\u001b[1;32m----> 1\u001b[1;33m \u001b[0mnp\u001b[0m\u001b[1;33m.\u001b[0m\u001b[0marray\u001b[0m\u001b[1;33m(\u001b[0m\u001b[1;33m(\u001b[0m\u001b[0mnp\u001b[0m\u001b[1;33m.\u001b[0m\u001b[0marray\u001b[0m\u001b[1;33m(\u001b[0m\u001b[1;33m[\u001b[0m\u001b[1;36m166\u001b[0m\u001b[1;33m,\u001b[0m \u001b[1;36m171\u001b[0m\u001b[1;33m,\u001b[0m \u001b[1;36m161\u001b[0m\u001b[1;33m,\u001b[0m \u001b[1;36m174\u001b[0m\u001b[1;33m,\u001b[0m \u001b[1;36m182\u001b[0m\u001b[1;33m,\u001b[0m \u001b[1;36m175\u001b[0m\u001b[1;33m,\u001b[0m \u001b[1;36m172\u001b[0m\u001b[1;33m,\u001b[0m \u001b[1;36m178\u001b[0m\u001b[1;33m,\u001b[0m \u001b[1;36m165\u001b[0m\u001b[1;33m]\u001b[0m\u001b[1;33m)\u001b[0m \u001b[1;33m+\u001b[0m \u001b[1;36m5\u001b[0m\u001b[1;33m)\u001b[0m\u001b[1;33m.\u001b[0m\u001b[0mtolist\u001b[0m\u001b[1;33m(\u001b[0m\u001b[1;33m)\u001b[0m\u001b[1;33m,\u001b[0m \u001b[1;33m[\u001b[0m\u001b[1;36m166\u001b[0m\u001b[1;33m,\u001b[0m \u001b[1;36m171\u001b[0m\u001b[1;33m,\u001b[0m \u001b[1;36m161\u001b[0m\u001b[1;33m,\u001b[0m \u001b[1;36m174\u001b[0m\u001b[1;33m,\u001b[0m \u001b[1;36m182\u001b[0m\u001b[1;33m,\u001b[0m \u001b[1;36m175\u001b[0m\u001b[1;33m,\u001b[0m \u001b[1;36m172\u001b[0m\u001b[1;33m,\u001b[0m \u001b[1;36m178\u001b[0m\u001b[1;33m,\u001b[0m \u001b[1;36m165\u001b[0m\u001b[1;33m]\u001b[0m\u001b[1;33m)\u001b[0m\u001b[1;33m\u001b[0m\u001b[1;33m\u001b[0m\u001b[0m\n\u001b[0m",
      "\u001b[1;31mTypeError\u001b[0m: data type not understood"
     ]
    }
   ],
   "source": [
    "np.array((np.array([166, 171, 161, 174, 182, 175, 172, 178, 165]) + 5).tolist(), [166, 171, 161, 174, 182, 175, 172, 178, 165])"
   ]
  },
  {
   "cell_type": "code",
   "execution_count": 74,
   "metadata": {},
   "outputs": [
    {
     "data": {
      "text/plain": [
       "array([166, 171, 161, 174, 182, 175, 172, 178, 165, 171, 176, 166, 179,\n",
       "       187, 180, 177, 183, 170])"
      ]
     },
     "execution_count": 74,
     "metadata": {},
     "output_type": "execute_result"
    }
   ],
   "source": [
    "np.array([[166, 171, 161, 174, 182, 175, 172, 178, 165], (np.array([166, 171, 161, 174, 182, 175, 172, 178, 165]) + 5).tolist()]).reshape(-1)"
   ]
  },
  {
   "cell_type": "code",
   "execution_count": 80,
   "metadata": {},
   "outputs": [
    {
     "data": {
      "text/plain": [
       "<AxesSubplot:xlabel='father', ylabel='child'>"
      ]
     },
     "execution_count": 80,
     "metadata": {},
     "output_type": "execute_result"
    },
    {
     "data": {
      "image/png": "[encoded data removed]",
      "text/plain": [
       "<Figure size 432x288 with 1 Axes>"
      ]
     },
     "metadata": {
      "needs_background": "light"
     },
     "output_type": "display_data"
    }
   ],
   "source": [
    "data = pd.DataFrame({\"father\" : np.array([[166, 171, 161, 174, 182, 175, 172, 178, 165],\n",
    "                                          (np.array([166, 171, 161, 174, 182, 175, 172, 178, 165]) + 5).tolist(),\n",
    "                                          (np.array([166, 171, 161, 174, 182, 175, 172, 178, 165]) - 5).tolist(),\n",
    "                                          (np.array([166, 171, 161, 174, 182, 175, 172, 178, 165]) + 3).tolist()]).reshape(-1),\n",
    "                     \"child\" : np.array([[175, 158, 160, 177, 165, 183, 172, 180, 150],\n",
    "                                         (np.array([175, 158, 160, 177, 165, 183, 172, 180, 150]) + 5).tolist(),\n",
    "                                         (np.array([175, 158, 160, 177, 165, 183, 172, 180, 150]) - 5).tolist(),\n",
    "                                         (np.array([175, 158, 160, 177, 165, 183, 172, 180, 150]) + 3).tolist()]).reshape(-1),\n",
    "                     \"gender\" : np.array([['M', 'F', 'F', 'M', 'F', 'M', 'M', 'M', 'F'],\n",
    "                                          ['M', 'F', 'F', 'M', 'F', 'M', 'M', 'M', 'F'],\n",
    "                                          ['M', 'F', 'F', 'M', 'F', 'M', 'M', 'M', 'F'],\n",
    "                                          ['M', 'F', 'F', 'M', 'F', 'M', 'M', 'M', 'F']]).reshape(-1)})\n",
    "data.plot(kind = \"scatter\", x = \"father\", y = \"child\")"
   ]
  },
  {
   "cell_type": "code",
   "execution_count": null,
   "metadata": {},
   "outputs": [],
   "source": []
  }
 ],
 "metadata": {
  "kernelspec": {
   "display_name": "Python 3",
   "language": "python",
   "name": "python3"
  },
  "language_info": {
   "codemirror_mode": {
    "name": "ipython",
    "version": 3
   },
   "file_extension": ".py",
   "mimetype": "text/x-python",
   "name": "python",
   "nbconvert_exporter": "python",
   "pygments_lexer": "ipython3",
   "version": "3.8.6"
  }
 },
 "nbformat": 4,
 "nbformat_minor": 4
}
