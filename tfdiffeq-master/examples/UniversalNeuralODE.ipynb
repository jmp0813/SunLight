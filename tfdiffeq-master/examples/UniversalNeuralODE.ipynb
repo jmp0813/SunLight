{
  "nbformat": 4,
  "nbformat_minor": 0,
  "metadata": {
    "colab": {
      "name": "UniversalNeuralODE v2.ipynb",
      "provenance": [],
      "collapsed_sections": [],
      "toc_visible": true
    },
    "kernelspec": {
      "name": "python3",
      "display_name": "Python 3"
    }
  },
  "cells": [
    {
      "cell_type": "code",
      "metadata": {
        "id": "Cg_WvHaHeHBw",
        "colab_type": "code",
        "colab": {}
      },
      "source": [
        "%matplotlib inline\n",
        "import numpy as np\n",
        "import matplotlib.pyplot as plt\n",
        "plt.style.use('seaborn-paper')"
      ],
      "execution_count": 0,
      "outputs": []
    },
    {
      "cell_type": "code",
      "metadata": {
        "id": "7Al8ZRF5emic",
        "colab_type": "code",
        "colab": {}
      },
      "source": [
        "%tensorflow_version 2.x"
      ],
      "execution_count": 0,
      "outputs": []
    },
    {
      "cell_type": "code",
      "metadata": {
        "id": "GMof13ePeZNp",
        "colab_type": "code",
        "outputId": "1a2e5471-673b-4d51-d423-e38a66269a5f",
        "colab": {
          "base_uri": "https://localhost:8080/",
          "height": 34
        }
      },
      "source": [
        "import tensorflow as tf\n",
        "tf.__version__"
      ],
      "execution_count": 3,
      "outputs": [
        {
          "output_type": "execute_result",
          "data": {
            "text/plain": [
              "'2.2.0-rc2'"
            ]
          },
          "metadata": {
            "tags": []
          },
          "execution_count": 3
        }
      ]
    },
    {
      "cell_type": "code",
      "metadata": {
        "id": "viPToQkOecMI",
        "colab_type": "code",
        "outputId": "b9c83959-83ac-4bd5-fafc-90f874e2ef6d",
        "colab": {
          "base_uri": "https://localhost:8080/",
          "height": 356
        }
      },
      "source": [
        "!pip install --upgrade git+https://github.com/titu1994/tfdiffeq.git "
      ],
      "execution_count": 4,
      "outputs": [
        {
          "output_type": "stream",
          "text": [
            "Collecting git+https://github.com/titu1994/tfdiffeq.git\n",
            "  Cloning https://github.com/titu1994/tfdiffeq.git to /tmp/pip-req-build-f8s21pbr\n",
            "  Running command git clone -q https://github.com/titu1994/tfdiffeq.git /tmp/pip-req-build-f8s21pbr\n",
            "Requirement already satisfied, skipping upgrade: numpy>=1.16.2 in /usr/local/lib/python3.6/dist-packages (from tfdiffeq==0.0.1) (1.18.2)\n",
            "Requirement already satisfied, skipping upgrade: scipy>=1.1.0 in /usr/local/lib/python3.6/dist-packages (from tfdiffeq==0.0.1) (1.4.1)\n",
            "Requirement already satisfied, skipping upgrade: six>=1.11.0 in /usr/local/lib/python3.6/dist-packages (from tfdiffeq==0.0.1) (1.12.0)\n",
            "Requirement already satisfied, skipping upgrade: matplotlib>=3.0.0 in /usr/local/lib/python3.6/dist-packages (from tfdiffeq==0.0.1) (3.2.1)\n",
            "Requirement already satisfied, skipping upgrade: pyparsing!=2.0.4,!=2.1.2,!=2.1.6,>=2.0.1 in /usr/local/lib/python3.6/dist-packages (from matplotlib>=3.0.0->tfdiffeq==0.0.1) (2.4.6)\n",
            "Requirement already satisfied, skipping upgrade: kiwisolver>=1.0.1 in /usr/local/lib/python3.6/dist-packages (from matplotlib>=3.0.0->tfdiffeq==0.0.1) (1.1.0)\n",
            "Requirement already satisfied, skipping upgrade: python-dateutil>=2.1 in /usr/local/lib/python3.6/dist-packages (from matplotlib>=3.0.0->tfdiffeq==0.0.1) (2.8.1)\n",
            "Requirement already satisfied, skipping upgrade: cycler>=0.10 in /usr/local/lib/python3.6/dist-packages (from matplotlib>=3.0.0->tfdiffeq==0.0.1) (0.10.0)\n",
            "Requirement already satisfied, skipping upgrade: setuptools in /usr/local/lib/python3.6/dist-packages (from kiwisolver>=1.0.1->matplotlib>=3.0.0->tfdiffeq==0.0.1) (46.0.0)\n",
            "Building wheels for collected packages: tfdiffeq\n",
            "  Building wheel for tfdiffeq (setup.py) ... \u001b[?25l\u001b[?25hdone\n",
            "  Created wheel for tfdiffeq: filename=tfdiffeq-0.0.1-py2.py3-none-any.whl size=46082 sha256=2eb82f2932ff672b3ea943ab4a17c4386e526074e9c8ccd3443b6a694b5e1318\n",
            "  Stored in directory: /tmp/pip-ephem-wheel-cache-4omoo8qw/wheels/1a/fc/26/608bd5ecbf21d23b0e87bb71814d3c031b7c8a5b37fa7aa904\n",
            "Successfully built tfdiffeq\n",
            "Installing collected packages: tfdiffeq\n",
            "Successfully installed tfdiffeq-0.0.1\n"
          ],
          "name": "stdout"
        }
      ]
    },
    {
      "cell_type": "code",
      "metadata": {
        "id": "ZKY7P0zNe3kS",
        "colab_type": "code",
        "outputId": "7d4aef7c-cfbd-4ca7-abea-2096db21cb82",
        "colab": {
          "base_uri": "https://localhost:8080/",
          "height": 171
        }
      },
      "source": [
        "!pip install pysindy"
      ],
      "execution_count": 5,
      "outputs": [
        {
          "output_type": "stream",
          "text": [
            "Collecting pysindy\n",
            "  Downloading https://files.pythonhosted.org/packages/3f/95/b75f5f8ecfe342c7931fec84a332dd39c0e5567c3b78fd069b3c2250c6df/pysindy-0.13.0-py3-none-any.whl\n",
            "Requirement already satisfied: scipy in /usr/local/lib/python3.6/dist-packages (from pysindy) (1.4.1)\n",
            "Requirement already satisfied: scikit-learn[alldeps]>=0.21 in /usr/local/lib/python3.6/dist-packages (from pysindy) (0.22.2.post1)\n",
            "Requirement already satisfied: numpy in /usr/local/lib/python3.6/dist-packages (from pysindy) (1.18.2)\n",
            "Requirement already satisfied: joblib>=0.11 in /usr/local/lib/python3.6/dist-packages (from scikit-learn[alldeps]>=0.21->pysindy) (0.14.1)\n",
            "Installing collected packages: pysindy\n",
            "Successfully installed pysindy-0.13.0\n"
          ],
          "name": "stdout"
        }
      ]
    },
    {
      "cell_type": "code",
      "metadata": {
        "id": "v63jc-GhtQQ_",
        "colab_type": "code",
        "outputId": "ccaec03a-5ca4-4b0a-b3ea-ac83ecdc9290",
        "colab": {
          "base_uri": "https://localhost:8080/",
          "height": 118
        }
      },
      "source": [
        "!pip install tensorflow_probability"
      ],
      "execution_count": 6,
      "outputs": [
        {
          "output_type": "stream",
          "text": [
            "Requirement already satisfied: tensorflow_probability in /usr/local/lib/python3.6/dist-packages (0.9.0)\n",
            "Requirement already satisfied: decorator in /usr/local/lib/python3.6/dist-packages (from tensorflow_probability) (4.4.2)\n",
            "Requirement already satisfied: six>=1.10.0 in /usr/local/lib/python3.6/dist-packages (from tensorflow_probability) (1.12.0)\n",
            "Requirement already satisfied: cloudpickle>=1.2.2 in /usr/local/lib/python3.6/dist-packages (from tensorflow_probability) (1.3.0)\n",
            "Requirement already satisfied: gast>=0.2 in /usr/local/lib/python3.6/dist-packages (from tensorflow_probability) (0.3.3)\n",
            "Requirement already satisfied: numpy>=1.13.3 in /usr/local/lib/python3.6/dist-packages (from tensorflow_probability) (1.18.2)\n"
          ],
          "name": "stdout"
        }
      ]
    },
    {
      "cell_type": "code",
      "metadata": {
        "id": "c4gIdM-LLDMm",
        "colab_type": "code",
        "colab": {}
      },
      "source": [
        "%load_ext autoreload\n",
        "%autoreload 2"
      ],
      "execution_count": 0,
      "outputs": []
    },
    {
      "cell_type": "code",
      "metadata": {
        "id": "YwKnjxGne9mW",
        "colab_type": "code",
        "colab": {}
      },
      "source": [
        "from tfdiffeq import odeint\n",
        "from tfdiffeq import plot_phase_portrait, plot_vector_field, plot_results"
      ],
      "execution_count": 0,
      "outputs": []
    },
    {
      "cell_type": "code",
      "metadata": {
        "id": "rOVfrbuZfugq",
        "colab_type": "code",
        "colab": {}
      },
      "source": [
        "NUM_SAMPLES = 1000\n",
        "device = 'cpu:0' # These experiments do not require the GPU. Normally, 'gpu:0' if tf.test.is_gpu_available() else 'cpu:0' should be used.\n",
        "\n",
        "# Force Float 64\n",
        "tf.keras.backend.set_floatx('float64')"
      ],
      "execution_count": 0,
      "outputs": []
    },
    {
      "cell_type": "code",
      "metadata": {
        "id": "Q3TBRZCPfXHE",
        "colab_type": "code",
        "colab": {}
      },
      "source": [
        "class LotkaVoltera(tf.keras.Model):\n",
        "  \n",
        "  def __init__(self, a, b, c, d, **kwargs):\n",
        "    super().__init__(**kwargs)\n",
        "    \n",
        "    self.a, self.b, self.c, self.d = a, b, c, d\n",
        "  \n",
        "  @tf.function\n",
        "  def call(self, t, y):\n",
        "    # y = [R, F]\n",
        "    r, f = tf.unstack(y)\n",
        "    \n",
        "    dR_dT = self.a * r - self.b * r * f\n",
        "    dF_dT = -self.c * f + self.d * r * f\n",
        "    \n",
        "    return tf.stack([dR_dT, dF_dT])"
      ],
      "execution_count": 0,
      "outputs": []
    },
    {
      "cell_type": "code",
      "metadata": {
        "id": "EJKyjYl4fn6n",
        "colab_type": "code",
        "colab": {}
      },
      "source": [
        "t = tf.linspace(0., 10., num=NUM_SAMPLES)\n",
        "initial_states = tf.convert_to_tensor([1, 1], dtype=tf.float64)\n",
        "\n",
        "a = 1.5\n",
        "b = 1\n",
        "c = 3\n",
        "d = 1"
      ],
      "execution_count": 0,
      "outputs": []
    },
    {
      "cell_type": "code",
      "metadata": {
        "id": "BmPPnn1Qfpwg",
        "colab_type": "code",
        "outputId": "f8eeb7ae-ec88-447e-dce6-5c76b301d542",
        "colab": {
          "base_uri": "https://localhost:8080/",
          "height": 67
        }
      },
      "source": [
        "%%time\n",
        "\n",
        "with tf.device(device):\n",
        "  result = odeint(LotkaVoltera(a, b, c, d), initial_states, t)\n",
        "  \n",
        "print(\"Finished integrating ! Result shape : \", result.shape)"
      ],
      "execution_count": 12,
      "outputs": [
        {
          "output_type": "stream",
          "text": [
            "Finished integrating ! Result shape :  (1000, 2)\n",
            "CPU times: user 2.47 s, sys: 53 ms, total: 2.52 s\n",
            "Wall time: 2.68 s\n"
          ],
          "name": "stdout"
        }
      ]
    },
    {
      "cell_type": "code",
      "metadata": {
        "id": "xye3D3C7f5Zu",
        "colab_type": "code",
        "outputId": "95345ae7-4556-43e2-cea6-4e9ec8f5107b",
        "colab": {
          "base_uri": "https://localhost:8080/",
          "height": 301
        }
      },
      "source": [
        "lims = [0, 5]\n",
        "plot_phase_portrait(LotkaVoltera(a, b, c, d), xlabel='Rabbit', ylabel='Wolf', xlims=[0, 7], ylims=lims)\n",
        "plot_vector_field(result, xlabel='Rabbit', ylabel='Wolf')"
      ],
      "execution_count": 13,
      "outputs": [
        {
          "output_type": "display_data",
          "data": {
            "image/png": "[encoded data removed]",
            "text/plain": [
              "<Figure size 460.8x316.8 with 1 Axes>"
            ]
          },
          "metadata": {
            "tags": []
          }
        }
      ]
    },
    {
      "cell_type": "code",
      "metadata": {
        "id": "b1MBr-rVgL-W",
        "colab_type": "code",
        "outputId": "f2f57d29-200e-4eb1-cc0d-42a93b391411",
        "colab": {
          "base_uri": "https://localhost:8080/",
          "height": 288
        }
      },
      "source": [
        "plot_results(t, result, labels=['Rabbit', 'Fox'])"
      ],
      "execution_count": 14,
      "outputs": [
        {
          "output_type": "display_data",
          "data": {
            "image/png": "[encoded data removed]",
            "text/plain": [
              "<Figure size 460.8x316.8 with 1 Axes>"
            ]
          },
          "metadata": {
            "tags": []
          }
        }
      ]
    },
    {
      "cell_type": "markdown",
      "metadata": {
        "id": "5IBlcslbgr3x",
        "colab_type": "text"
      },
      "source": [
        "# Universal ODEs\n",
        "\n",
        "Original Lotke-Volterra system \n",
        ">$\\frac{\\partial R}{\\partial T} = aR - bRF \\\\ \\frac{\\partial F}{\\partial T} = -cF + dRF$\n",
        "\n",
        "For our system, we set $a=1.5$, $b=1$, $c=3.0$, $d=1$\n",
        "\n",
        "-------\n",
        "\n",
        "For Universal ODE formulation of the above,\n",
        "\n",
        "> We substitute $bRF$ with $U_1(R, F)$ in $\\frac{\\partial R}{\\partial T}$.\n",
        "\n",
        "> We substitute $bRF$ with $U_2(R, F)$ in $\\frac{\\partial F}{\\partial T}$.\n",
        "\n",
        "Therefore,\n",
        ">$\\frac{\\partial R}{\\partial T} = aR - U_1(R, F) \\\\ \\frac{\\partial F}{\\partial T} = -cF + U_2(R, F)$\n"
      ]
    },
    {
      "cell_type": "code",
      "metadata": {
        "id": "0KVE3OQpgtE8",
        "colab_type": "code",
        "colab": {}
      },
      "source": [
        "class LotkaVolteraTrainable(tf.keras.Model):\n",
        "  \n",
        "  def __init__(self, a, b, c, d, **kwargs):\n",
        "    super().__init__(**kwargs)\n",
        "    \n",
        "    self.a, self.c = a, c\n",
        "\n",
        "    self.eqn = tf.keras.Sequential([\n",
        "             tf.keras.layers.Dense(32, activation=tf.nn.swish, input_shape=(2,)),\n",
        "             tf.keras.layers.Dense(32, activation=tf.nn.swish,),\n",
        "             tf.keras.layers.Dense(32, activation=tf.nn.swish),\n",
        "             tf.keras.layers.Dense(2, activation='relu',)   \n",
        "    ])\n",
        "  \n",
        "  @tf.function\n",
        "  def call(self, t, y):\n",
        "    # y = [R, F]\n",
        "    r, f = tf.unstack(y)\n",
        "\n",
        "    # Neural ODE component\n",
        "    n_out = self.eqn(tf.reshape(y, [1, 2]))  # [1, 2] -> [1, 2]\n",
        "    pred1 = n_out[0, 0]\n",
        "    pred2 = n_out[0, 1]\n",
        "    \n",
        "    dR_dT = self.a * r - pred1\n",
        "    dF_dT = -self.c * f + pred2\n",
        "    \n",
        "    return tf.stack([dR_dT, dF_dT])"
      ],
      "execution_count": 0,
      "outputs": []
    },
    {
      "cell_type": "code",
      "metadata": {
        "id": "0c_4_YNJk4jr",
        "colab_type": "code",
        "colab": {}
      },
      "source": [
        "t_train = tf.linspace(0., 2., num=30)  # Train for just 2 seconds of input\n",
        "initial_states_train = tf.convert_to_tensor([1, 1], dtype=tf.float64)\n",
        "\n",
        "a = 1.5\n",
        "b = 1\n",
        "c = 3\n",
        "d = 1\n",
        "\n",
        "epochs = 100\n",
        "initial_learning_rate = 0.01\n",
        "decay_steps = 100\n",
        "decay_rate = 0.5"
      ],
      "execution_count": 0,
      "outputs": []
    },
    {
      "cell_type": "code",
      "metadata": {
        "id": "z1xCYaJt2fQQ",
        "colab_type": "code",
        "colab": {
          "base_uri": "https://localhost:8080/",
          "height": 67
        },
        "outputId": "40734229-85e9-4eb6-d0f2-4df3960fc831"
      },
      "source": [
        "# Lets see the ground truth sample\n",
        "%%time\n",
        "\n",
        "with tf.device(device):\n",
        "  result_train = odeint(LotkaVoltera(a, b, c, d), initial_states_train, t_train)\n",
        "  \n",
        "print(\"Finished integrating ! Result shape : \", result_train.shape)"
      ],
      "execution_count": 17,
      "outputs": [
        {
          "output_type": "stream",
          "text": [
            "Finished integrating ! Result shape :  (30, 2)\n",
            "CPU times: user 340 ms, sys: 10.5 ms, total: 350 ms\n",
            "Wall time: 341 ms\n"
          ],
          "name": "stdout"
        }
      ]
    },
    {
      "cell_type": "code",
      "metadata": {
        "id": "oZHyNveF2sG9",
        "colab_type": "code",
        "colab": {
          "base_uri": "https://localhost:8080/",
          "height": 288
        },
        "outputId": "b166a308-cd9d-4f40-fe65-17b164e210fa"
      },
      "source": [
        "plot_results(t_train, result_train, labels=['Rabbit', 'Fox'])"
      ],
      "execution_count": 18,
      "outputs": [
        {
          "output_type": "display_data",
          "data": {
            "image/png": "[encoded data removed]",
            "text/plain": [
              "<Figure size 460.8x316.8 with 1 Axes>"
            ]
          },
          "metadata": {
            "tags": []
          }
        }
      ]
    },
    {
      "cell_type": "markdown",
      "metadata": {
        "id": "tvh4VR74MI-_",
        "colab_type": "text"
      },
      "source": [
        "# Train a model\n",
        "\n",
        "We pretrain the model for a few epochs to reduce the loss quickly, and then retrain the model using BFGS to reduce the loss to a small enough tolerance (say $10^{-6}$)."
      ]
    },
    {
      "cell_type": "code",
      "metadata": {
        "id": "yfAKw4zZl_sm",
        "colab_type": "code",
        "colab": {
          "base_uri": "https://localhost:8080/",
          "height": 1000
        },
        "outputId": "9fcdeada-3d27-491f-f875-b3119e2aba12"
      },
      "source": [
        "%%time\n",
        "\n",
        "with tf.device(device):\n",
        "  model = LotkaVolteraTrainable(a, b, c, d)\n",
        "\n",
        "  learning_rate = tf.keras.optimizers.schedules.ExponentialDecay(\n",
        "    initial_learning_rate, decay_steps, decay_rate, staircase=False,\n",
        "  )\n",
        "\n",
        "  optimizer = tf.keras.optimizers.Adam(learning_rate)\n",
        "\n",
        "  print(\"Computing ground truth...\")\n",
        "  y_real = odeint(LotkaVoltera(a, b, c, d), initial_states_train, t_train)\n",
        "\n",
        "  print(\"Ground truth shape :\", y_real.shape)\n",
        "\n",
        "  for epoch in range(epochs):\n",
        "    print(f\"Epoch {epoch + 1}\")\n",
        "\n",
        "    with tf.GradientTape() as tape:\n",
        "      preds = odeint(model, initial_states_train, t_train)\n",
        "      loss = tf.reduce_mean(tf.square(y_real - preds), axis=1)\n",
        "\n",
        "    grads = tape.gradient(loss, model.trainable_variables)\n",
        "    optimizer.apply_gradients(zip(grads, model.trainable_variables))\n",
        "\n",
        "    print(\"Loss :\", loss.numpy().mean())\n",
        "    print(\"LR :\", learning_rate(optimizer.iterations).numpy())\n",
        "    print()"
      ],
      "execution_count": 20,
      "outputs": [
        {
          "output_type": "stream",
          "text": [
            "Computing ground truth...\n",
            "Ground truth shape : (30, 2)\n",
            "Epoch 1\n",
            "Loss : 10.992634101706493\n",
            "LR : 0.0099309245\n",
            "\n",
            "Epoch 2\n",
            "Loss : 4.200225213023328\n",
            "LR : 0.009862327\n",
            "\n",
            "Epoch 3\n",
            "Loss : 0.7407070546376819\n",
            "LR : 0.009794203\n",
            "\n",
            "Epoch 4\n",
            "Loss : 0.22377207009365144\n",
            "LR : 0.0097265495\n",
            "\n",
            "Epoch 5\n",
            "Loss : 0.9104148394192274\n",
            "LR : 0.009659363\n",
            "\n",
            "Epoch 6\n",
            "Loss : 1.368997969723929\n",
            "LR : 0.009592641\n",
            "\n",
            "Epoch 7\n",
            "Loss : 1.3299152238527217\n",
            "LR : 0.009526379\n",
            "\n",
            "Epoch 8\n",
            "Loss : 0.9556125034466085\n",
            "LR : 0.009460577\n",
            "\n",
            "Epoch 9\n",
            "Loss : 0.4801544013542277\n",
            "LR : 0.009395227\n",
            "\n",
            "Epoch 10\n",
            "Loss : 0.13999975437102335\n",
            "LR : 0.0093303295\n",
            "\n",
            "Epoch 11\n",
            "Loss : 0.10990302449944243\n",
            "LR : 0.00926588\n",
            "\n",
            "Epoch 12\n",
            "Loss : 0.35970250842893114\n",
            "LR : 0.009201876\n",
            "\n",
            "Epoch 13\n",
            "Loss : 0.5667594043917034\n",
            "LR : 0.009138315\n",
            "\n",
            "Epoch 14\n",
            "Loss : 0.5213719597003306\n",
            "LR : 0.009075192\n",
            "\n",
            "Epoch 15\n",
            "Loss : 0.32512128353867525\n",
            "LR : 0.0090125045\n",
            "\n",
            "Epoch 16\n",
            "Loss : 0.1450387344196678\n",
            "LR : 0.00895025\n",
            "\n",
            "Epoch 17\n",
            "Loss : 0.06361208447781926\n",
            "LR : 0.008888427\n",
            "\n",
            "Epoch 18\n",
            "Loss : 0.07668079875105036\n",
            "LR : 0.00882703\n",
            "\n",
            "Epoch 19\n",
            "Loss : 0.13822528885831534\n",
            "LR : 0.008766057\n",
            "\n",
            "Epoch 20\n",
            "Loss : 0.1994622642549038\n",
            "LR : 0.008705505\n",
            "\n",
            "Epoch 21\n",
            "Loss : 0.22945631706365924\n",
            "LR : 0.008645372\n",
            "\n",
            "Epoch 22\n",
            "Loss : 0.2196673192518498\n",
            "LR : 0.008585654\n",
            "\n",
            "Epoch 23\n",
            "Loss : 0.1791808604383665\n",
            "LR : 0.0085263485\n",
            "\n",
            "Epoch 24\n",
            "Loss : 0.126546681542131\n",
            "LR : 0.008467453\n",
            "\n",
            "Epoch 25\n",
            "Loss : 0.08140822265270006\n",
            "LR : 0.008408964\n",
            "\n",
            "Epoch 26\n",
            "Loss : 0.05746432142412358\n",
            "LR : 0.008350879\n",
            "\n",
            "Epoch 27\n",
            "Loss : 0.05818369305660645\n",
            "LR : 0.008293196\n",
            "\n",
            "Epoch 28\n",
            "Loss : 0.07667152049126355\n",
            "LR : 0.00823591\n",
            "\n",
            "Epoch 29\n",
            "Loss : 0.09989240013888902\n",
            "LR : 0.008179021\n",
            "\n",
            "Epoch 30\n",
            "Loss : 0.11524825984115372\n",
            "LR : 0.008122524\n",
            "\n",
            "Epoch 31\n",
            "Loss : 0.11605754782337649\n",
            "LR : 0.008066418\n",
            "\n",
            "Epoch 32\n",
            "Loss : 0.10332847555907163\n",
            "LR : 0.0080106985\n",
            "\n",
            "Epoch 33\n",
            "Loss : 0.08368224990003258\n",
            "LR : 0.007955364\n",
            "\n",
            "Epoch 34\n",
            "Loss : 0.06529588392559561\n",
            "LR : 0.007900413\n",
            "\n",
            "Epoch 35\n",
            "Loss : 0.05416497054381087\n",
            "LR : 0.00784584\n",
            "\n",
            "Epoch 36\n",
            "Loss : 0.0521806894003783\n",
            "LR : 0.0077916454\n",
            "\n",
            "Epoch 37\n",
            "Loss : 0.05732490970632641\n",
            "LR : 0.0077378247\n",
            "\n",
            "Epoch 38\n",
            "Loss : 0.06534602780532939\n",
            "LR : 0.0076843756\n",
            "\n",
            "Epoch 39\n",
            "Loss : 0.07187608972266499\n",
            "LR : 0.007631296\n",
            "\n",
            "Epoch 40\n",
            "Loss : 0.0740800160879458\n",
            "LR : 0.0075785825\n",
            "\n",
            "Epoch 41\n",
            "Loss : 0.07136469798237875\n",
            "LR : 0.007526234\n",
            "\n",
            "Epoch 42\n",
            "Loss : 0.0651361474055563\n",
            "LR : 0.007474246\n",
            "\n",
            "Epoch 43\n",
            "Loss : 0.05790218004570231\n",
            "LR : 0.0074226176\n",
            "\n",
            "Epoch 44\n",
            "Loss : 0.0521481808959025\n",
            "LR : 0.007371346\n",
            "\n",
            "Epoch 45\n",
            "Loss : 0.04940464145918564\n",
            "LR : 0.0073204283\n",
            "\n",
            "Epoch 46\n",
            "Loss : 0.04981016703710391\n",
            "LR : 0.007269862\n",
            "\n",
            "Epoch 47\n",
            "Loss : 0.052273433319380024\n",
            "LR : 0.0072196457\n",
            "\n",
            "Epoch 48\n",
            "Loss : 0.05510103139452761\n",
            "LR : 0.0071697766\n",
            "\n",
            "Epoch 49\n",
            "Loss : 0.05677745763264778\n",
            "LR : 0.0071202507\n",
            "\n",
            "Epoch 50\n",
            "Loss : 0.056549108356002006\n",
            "LR : 0.0070710676\n",
            "\n",
            "Epoch 51\n",
            "Loss : 0.0545938379799446\n",
            "LR : 0.0070222244\n",
            "\n",
            "Epoch 52\n",
            "Loss : 0.05177385884254491\n",
            "LR : 0.0069737183\n",
            "\n",
            "Epoch 53\n",
            "Loss : 0.04915281858716272\n",
            "LR : 0.0069255475\n",
            "\n",
            "Epoch 54\n",
            "Loss : 0.04752488807771844\n",
            "LR : 0.0068777087\n",
            "\n",
            "Epoch 55\n",
            "Loss : 0.047147695082569406\n",
            "LR : 0.006830201\n",
            "\n",
            "Epoch 56\n",
            "Loss : 0.0477451788307463\n",
            "LR : 0.0067830216\n",
            "\n",
            "Epoch 57\n",
            "Loss : 0.04872201487157432\n",
            "LR : 0.0067361677\n",
            "\n",
            "Epoch 58\n",
            "Loss : 0.049459887855002535\n",
            "LR : 0.006689638\n",
            "\n",
            "Epoch 59\n",
            "Loss : 0.049562953902662646\n",
            "LR : 0.0066434294\n",
            "\n",
            "Epoch 60\n",
            "Loss : 0.048968627628106214\n",
            "LR : 0.006597539\n",
            "\n",
            "Epoch 61\n",
            "Loss : 0.047908466986042\n",
            "LR : 0.0065519665\n",
            "\n",
            "Epoch 62\n",
            "Loss : 0.04676276557179461\n",
            "LR : 0.0065067094\n",
            "\n",
            "Epoch 63\n",
            "Loss : 0.04588363237492173\n",
            "LR : 0.0064617638\n",
            "\n",
            "Epoch 64\n",
            "Loss : 0.04546009177183233\n",
            "LR : 0.0064171297\n",
            "\n",
            "Epoch 65\n",
            "Loss : 0.04547088234592859\n",
            "LR : 0.0063728034\n",
            "\n",
            "Epoch 66\n",
            "Loss : 0.0457294910691128\n",
            "LR : 0.006328783\n",
            "\n",
            "Epoch 67\n",
            "Loss : 0.04598840819595805\n",
            "LR : 0.0062850663\n",
            "\n",
            "Epoch 68\n",
            "Loss : 0.04605031527025883\n",
            "LR : 0.0062416526\n",
            "\n",
            "Epoch 69\n",
            "Loss : 0.04583913829478562\n",
            "LR : 0.0061985385\n",
            "\n",
            "Epoch 70\n",
            "Loss : 0.04540842614367384\n",
            "LR : 0.006155722\n",
            "\n",
            "Epoch 71\n",
            "Loss : 0.044894834226946095\n",
            "LR : 0.0061132014\n",
            "\n",
            "Epoch 72\n",
            "Loss : 0.044446227333387524\n",
            "LR : 0.0060709743\n",
            "\n",
            "Epoch 73\n",
            "Loss : 0.04415899235211677\n",
            "LR : 0.0060290387\n",
            "\n",
            "Epoch 74\n",
            "Loss : 0.044048558640072503\n",
            "LR : 0.005987393\n",
            "\n",
            "Epoch 75\n",
            "Loss : 0.04405861072635919\n",
            "LR : 0.005946035\n",
            "\n",
            "Epoch 76\n",
            "Loss : 0.04409754356994734\n",
            "LR : 0.0059049637\n",
            "\n",
            "Epoch 77\n",
            "Loss : 0.04408201919349269\n",
            "LR : 0.005864175\n",
            "\n",
            "Epoch 78\n",
            "Loss : 0.043968740489334426\n",
            "LR : 0.005823668\n",
            "\n",
            "Epoch 79\n",
            "Loss : 0.04376406048806301\n",
            "LR : 0.005783441\n",
            "\n",
            "Epoch 80\n",
            "Loss : 0.04351188460379702\n",
            "LR : 0.0057434915\n",
            "\n",
            "Epoch 81\n",
            "Loss : 0.04326881658517987\n",
            "LR : 0.0057038185\n",
            "\n",
            "Epoch 82\n",
            "Loss : 0.04307885798438559\n",
            "LR : 0.0056644194\n",
            "\n",
            "Epoch 83\n",
            "Loss : 0.04295788149101391\n",
            "LR : 0.0056252927\n",
            "\n",
            "Epoch 84\n",
            "Loss : 0.0428923446534237\n",
            "LR : 0.0055864356\n",
            "\n",
            "Epoch 85\n",
            "Loss : 0.04285017480326951\n",
            "LR : 0.005547847\n",
            "\n",
            "Epoch 86\n",
            "Loss : 0.04279718178053866\n",
            "LR : 0.0055095255\n",
            "\n",
            "Epoch 87\n",
            "Loss : 0.04271128339691166\n",
            "LR : 0.0054714684\n",
            "\n",
            "Epoch 88\n",
            "Loss : 0.042589124851152446\n",
            "LR : 0.0054336744\n",
            "\n",
            "Epoch 89\n",
            "Loss : 0.042443805491682585\n",
            "LR : 0.005396141\n",
            "\n",
            "Epoch 90\n",
            "Loss : 0.04229633431365894\n",
            "LR : 0.0053588673\n",
            "\n",
            "Epoch 91\n",
            "Loss : 0.04216551676083558\n",
            "LR : 0.0053218505\n",
            "\n",
            "Epoch 92\n",
            "Loss : 0.04206070508033606\n",
            "LR : 0.0052850903\n",
            "\n",
            "Epoch 93\n",
            "Loss : 0.041979799891582084\n",
            "LR : 0.0052485834\n",
            "\n",
            "Epoch 94\n",
            "Loss : 0.041912277191340525\n",
            "LR : 0.005212329\n",
            "\n",
            "Epoch 95\n",
            "Loss : 0.04184502377101003\n",
            "LR : 0.005176325\n",
            "\n",
            "Epoch 96\n",
            "Loss : 0.041768075126612784\n",
            "LR : 0.005140569\n",
            "\n",
            "Epoch 97\n",
            "Loss : 0.041677970376976514\n",
            "LR : 0.00510506\n",
            "\n",
            "Epoch 98\n",
            "Loss : 0.041577847527293404\n",
            "LR : 0.005069797\n",
            "\n",
            "Epoch 99\n",
            "Loss : 0.041474877969869865\n",
            "LR : 0.0050347773\n",
            "\n",
            "Epoch 100\n",
            "Loss : 0.04137658365115972\n",
            "LR : 0.005\n",
            "\n",
            "CPU times: user 1min 27s, sys: 1.41 s, total: 1min 28s\n",
            "Wall time: 1min 25s\n"
          ],
          "name": "stdout"
        }
      ]
    },
    {
      "cell_type": "code",
      "metadata": {
        "id": "WLUK0cMat9fv",
        "colab_type": "code",
        "colab": {}
      },
      "source": [
        "model.save_weights('model_weights/ckpt', save_format='tf')"
      ],
      "execution_count": 0,
      "outputs": []
    },
    {
      "cell_type": "code",
      "metadata": {
        "id": "nL0hVP91vsSE",
        "colab_type": "code",
        "outputId": "e7cc29ad-6368-4f82-e012-5c1d967f334f",
        "colab": {
          "base_uri": "https://localhost:8080/",
          "height": 34
        }
      },
      "source": [
        "model.load_weights('model_weights/ckpt')"
      ],
      "execution_count": 22,
      "outputs": [
        {
          "output_type": "execute_result",
          "data": {
            "text/plain": [
              "<tensorflow.python.training.tracking.util.CheckpointLoadStatus at 0x7f51ba36b518>"
            ]
          },
          "metadata": {
            "tags": []
          },
          "execution_count": 22
        }
      ]
    },
    {
      "cell_type": "markdown",
      "metadata": {
        "id": "u3ZO0Qgut4cu",
        "colab_type": "text"
      },
      "source": [
        "## Finetune the model with BFGS"
      ]
    },
    {
      "cell_type": "code",
      "metadata": {
        "id": "SdgoZlE9t3zn",
        "colab_type": "code",
        "colab": {}
      },
      "source": [
        "from tfdiffeq.bfgs_optimizer import BFGSOptimizer"
      ],
      "execution_count": 0,
      "outputs": []
    },
    {
      "cell_type": "code",
      "metadata": {
        "id": "i3MSoP2Xt34c",
        "colab_type": "code",
        "colab": {}
      },
      "source": [
        "tolerance = 1e-6\n",
        "bfgs_optimizer = BFGSOptimizer(max_iterations=50, tolerance=tolerance)"
      ],
      "execution_count": 0,
      "outputs": []
    },
    {
      "cell_type": "markdown",
      "metadata": {
        "id": "S3BYQj7ouXsp",
        "colab_type": "text"
      },
      "source": [
        "### Create a wrapper function for the BFGS optimizer \n",
        "\n",
        "BFGS optimizer is somewhat different than SGD or ADAM from Tensorflow. It requires a callable function `loss_func`, which accepts the `model` as input and returns a single float value `loss_value`.\n",
        "\n",
        "```python\n",
        "loss_value = loss_func(model)\n",
        "```\n",
        "\n",
        "The model is generally a `tf.keras.Model` or its subclasses, and we can use external data as inputs if required to obtain a loss value as shown below."
      ]
    },
    {
      "cell_type": "code",
      "metadata": {
        "id": "95K2-Z5YuE2-",
        "colab_type": "code",
        "colab": {}
      },
      "source": [
        "from tfdiffeq.adjoint import odeint as adjoint_odeint\n",
        "\n",
        "def loss_wrapper(model):\n",
        "  # Can use `adjoing_odeint` here as replacement for `adjoint_odeint`\n",
        "  preds = odeint(model, initial_states_train, t_train, atol=1e-6, rtol=1e-6)\n",
        "  loss = tf.reduce_mean(tf.square(y_real - preds))\n",
        "  return loss"
      ],
      "execution_count": 0,
      "outputs": []
    },
    {
      "cell_type": "code",
      "metadata": {
        "id": "I2_0WaHnuE5O",
        "colab_type": "code",
        "outputId": "06b3dd86-00a8-485c-91d8-a563b7aa1db8",
        "colab": {
          "base_uri": "https://localhost:8080/",
          "height": 1000
        }
      },
      "source": [
        "%%time\n",
        "\n",
        "model = bfgs_optimizer.minimize(loss_wrapper, model)"
      ],
      "execution_count": 26,
      "outputs": [
        {
          "output_type": "stream",
          "text": [
            "Iter: 1 loss: 0.041287675417741442\n",
            "Iter: 2 loss: 0.040494851699277988\n",
            "Iter: 3 loss: 0.0392374732155567\n",
            "Iter: 4 loss: 0.039216343721603625\n",
            "Iter: 5 loss: 5.0608730955277137\n",
            "Iter: 6 loss: 0.039004600662469059\n",
            "Iter: 7 loss: 0.037499866244456573\n",
            "Iter: 8 loss: 0.025839098787138828\n",
            "Iter: 9 loss: 3.1833113244888369\n",
            "Iter: 10 loss: 0.02583329492460559\n",
            "Iter: 11 loss: 0.029147451906736586\n",
            "Iter: 12 loss: 0.020963379046887009\n",
            "Iter: 13 loss: 0.029232031728844025\n",
            "Iter: 14 loss: 0.020058591162195324\n",
            "Iter: 15 loss: 0.0236167783311912\n",
            "Iter: 16 loss: 0.018169629485614867\n",
            "Iter: 17 loss: 0.018463138479389084\n",
            "Iter: 18 loss: 0.015142018939913958\n",
            "Iter: 19 loss: 0.011035538539640658\n",
            "Iter: 20 loss: 0.010389829101748859\n",
            "Iter: 21 loss: 0.067523287712635\n",
            "Iter: 22 loss: 0.010193535473714222\n",
            "Iter: 23 loss: 0.0093534463163813218\n",
            "Iter: 24 loss: 0.00908923345372598\n",
            "Iter: 25 loss: 0.0098177674546017987\n",
            "Iter: 26 loss: 0.0076787192124451219\n",
            "Iter: 27 loss: 0.0045401696221174272\n",
            "Iter: 28 loss: 0.061093035100257917\n",
            "Iter: 29 loss: 0.0044253951845290443\n",
            "Iter: 30 loss: 0.0038666036045994167\n",
            "Iter: 31 loss: 0.0038369584467983628\n",
            "Iter: 32 loss: 0.00360816995781094\n",
            "Iter: 33 loss: 0.00433345961800111\n",
            "Iter: 34 loss: 0.0035181586031085245\n",
            "Iter: 35 loss: 0.003186313991342408\n",
            "Iter: 36 loss: 0.013877925874934086\n",
            "Iter: 37 loss: 0.0031849296658053024\n",
            "Iter: 38 loss: 0.0023437830221644021\n",
            "Iter: 39 loss: 0.0050592727428772476\n",
            "Iter: 40 loss: 0.0020712082420833414\n",
            "Iter: 41 loss: 0.0013987749721758344\n",
            "Iter: 42 loss: 0.0012774005056342644\n",
            "Iter: 43 loss: 0.00091783312731299788\n",
            "Iter: 44 loss: 0.0087940444688741314\n",
            "Iter: 45 loss: 0.00058771684348878778\n",
            "Iter: 46 loss: 0.00044056671909646161\n",
            "Iter: 47 loss: 0.00044022153857332404\n",
            "Iter: 48 loss: 0.0004016511641951534\n",
            "Iter: 49 loss: 0.00037822403182107104\n",
            "Iter: 50 loss: 0.0002892791971154786\n",
            "Iter: 51 loss: 0.00052504160030964473\n",
            "Iter: 52 loss: 0.00026217658777089259\n",
            "Iter: 53 loss: 0.00016463365004363277\n",
            "Iter: 54 loss: 0.0043779633194707904\n",
            "Iter: 55 loss: 0.00016460772170415842\n",
            "Iter: 56 loss: 0.00014624313719754882\n",
            "Iter: 57 loss: 0.00034228609671621465\n",
            "Iter: 58 loss: 0.00014559664133487047\n",
            "Iter: 59 loss: 0.00013932815040265748\n",
            "Iter: 60 loss: 0.00013926386344524018\n",
            "Iter: 61 loss: 0.0001360322465596785\n",
            "Iter: 62 loss: 0.00014324645434025656\n",
            "Iter: 63 loss: 0.00013486115982293267\n",
            "Iter: 64 loss: 0.00013352811757770796\n",
            "Iter: 65 loss: 0.00014007433648554295\n",
            "Iter: 66 loss: 0.00013329784153724434\n",
            "Iter: 67 loss: 0.00013026625411540483\n",
            "Iter: 68 loss: 0.00012524838439502737\n",
            "Iter: 69 loss: 0.00012519158840442634\n",
            "Iter: 70 loss: 0.00011634778683516549\n",
            "Iter: 71 loss: 9.4358443619702842e-05\n",
            "Iter: 72 loss: 0.00036521667511511797\n",
            "Iter: 73 loss: 9.064394714795778e-05\n",
            "Iter: 74 loss: 5.9063057377838476e-05\n",
            "Iter: 75 loss: 0.0019480524323503259\n",
            "Iter: 76 loss: 5.8963122533500949e-05\n",
            "Iter: 77 loss: 2.7120015290061854e-05\n",
            "Iter: 78 loss: 0.00051596152736526929\n",
            "Iter: 79 loss: 2.6942458420851552e-05\n",
            "Iter: 80 loss: 1.5685545704451014e-05\n",
            "Iter: 81 loss: 0.00015659469340689307\n",
            "Iter: 82 loss: 1.5407323003294176e-05\n",
            "Iter: 83 loss: 1.1627413349755774e-05\n",
            "Iter: 84 loss: 3.4350326151503572e-05\n",
            "Iter: 85 loss: 1.120323818800104e-05\n",
            "Iter: 86 loss: 1.1765830090485982e-05\n",
            "Iter: 87 loss: 9.5235898250226365e-06\n",
            "Iter: 88 loss: 6.57427343836176e-06\n",
            "Iter: 89 loss: 2.8652252566641625e-05\n",
            "Iter: 90 loss: 6.2213328177880345e-06\n",
            "Iter: 91 loss: 5.3719500339912165e-06\n",
            "Iter: 92 loss: 1.4790121012946279e-05\n",
            "Iter: 93 loss: 5.3598449657954269e-06\n",
            "Iter: 94 loss: 5.1746975169585487e-06\n",
            "Iter: 95 loss: 7.8115416999047627e-06\n",
            "Iter: 96 loss: 5.173309033356933e-06\n",
            "Iter: 97 loss: 5.1574929153099548e-06\n",
            "Iter: 98 loss: 5.2937968444894436e-06\n",
            "Iter: 99 loss: 5.1566753241960949e-06\n",
            "Iter: 100 loss: 5.1537777957471243e-06\n",
            "Iter: 101 loss: 5.1529960985969377e-06\n",
            "Iter: 102 loss: 5.1511987549017312e-06\n",
            "Iter: 103 loss: 5.1408843784472614e-06\n",
            "Iter: 104 loss: 5.1055622242701375e-06\n",
            "Iter: 105 loss: 5.0692627243846874e-06\n",
            "Iter: 106 loss: 5.0556342190154771e-06\n",
            "Iter: 107 loss: 4.8813091190128324e-06\n",
            "Iter: 108 loss: 4.4310252046321339e-06\n",
            "Iter: 109 loss: 4.755118102212873e-05\n",
            "Iter: 110 loss: 4.4271561362942684e-06\n",
            "Iter: 111 loss: 4.1896669344999684e-06\n",
            "Iter: 112 loss: 1.0200205235671467e-05\n",
            "Iter: 113 loss: 4.1858279628716564e-06\n",
            "Iter: 114 loss: 4.0979434119198128e-06\n",
            "Iter: 115 loss: 4.0858140826047773e-06\n",
            "Iter: 116 loss: 4.0389049273541641e-06\n",
            "Iter: 117 loss: 4.51664274016407e-06\n",
            "Iter: 118 loss: 4.0349247384336579e-06\n",
            "Iter: 119 loss: 4.0267779858253195e-06\n",
            "Iter: 120 loss: 4.0625438308018112e-06\n",
            "Iter: 121 loss: 4.0253963948895454e-06\n",
            "Iter: 122 loss: 4.0225153621723725e-06\n",
            "Iter: 123 loss: 4.0161718749286082e-06\n",
            "Iter: 124 loss: 4.1129457281711785e-06\n",
            "Iter: 125 loss: 4.0158908478011249e-06\n",
            "Iter: 126 loss: 4.0002656956210677e-06\n",
            "Iter: 127 loss: 3.9468846543534227e-06\n",
            "Iter: 128 loss: 3.8848798819062474e-06\n",
            "Iter: 129 loss: 3.8693220079034244e-06\n",
            "Iter: 130 loss: 3.543296068303952e-06\n",
            "Iter: 131 loss: 2.8311137523967903e-06\n",
            "Iter: 132 loss: 2.8283618247503318e-06\n",
            "Iter: 133 loss: 2.8300296461459313e-06\n",
            "Iter: 134 loss: 2.5027120339276549e-06\n",
            "Iter: 135 loss: 2.3027633094736354e-06\n",
            "Iter: 136 loss: 5.3980667424287857e-06\n",
            "Iter: 137 loss: 2.3006790850120517e-06\n",
            "Iter: 138 loss: 2.3301797821438049e-06\n",
            "Iter: 139 loss: 2.1938667496311165e-06\n",
            "BFGS complete, and parameters updated !\n",
            "CPU times: user 1min 39s, sys: 2.06 s, total: 1min 41s\n",
            "Wall time: 1min 32s\n"
          ],
          "name": "stdout"
        }
      ]
    },
    {
      "cell_type": "markdown",
      "metadata": {
        "id": "Fi3nrE1bOiEx",
        "colab_type": "text"
      },
      "source": [
        "# Save your weights and download them !"
      ]
    },
    {
      "cell_type": "code",
      "metadata": {
        "id": "Eu2-OtuGEy1w",
        "colab_type": "code",
        "colab": {}
      },
      "source": [
        "model.save_weights('model_weights/ckpt', save_format='tf')"
      ],
      "execution_count": 0,
      "outputs": []
    },
    {
      "cell_type": "markdown",
      "metadata": {
        "id": "MouCNTbKOmPe",
        "colab_type": "text"
      },
      "source": [
        "# Load a new model and load these weights (if you didnt train above)"
      ]
    },
    {
      "cell_type": "code",
      "metadata": {
        "id": "2QvMCjNKT421",
        "colab_type": "code",
        "colab": {}
      },
      "source": [
        "import os\n",
        "import requests\n",
        "\n",
        "def get_checkpoints():\n",
        "  if not os.path.exists('model_weights'):\n",
        "      os.makedirs('model_weights')\n",
        "\n",
        "  r = requests.get('https://github.com/titu1994/tfdiffeq/releases/download/v0.0.1-pre0/checkpoint')\n",
        "  with open('./model_weights/checkpoint', 'wb') as f:\n",
        "    f.write(r.content)\n",
        "\n",
        "  r = requests.get('https://github.com/titu1994/tfdiffeq/releases/download/v0.0.1-pre0/ckpt.data-00000-of-00001')\n",
        "  with open('./model_weights/ckpt.data-00000-of-00001', 'wb') as f:\n",
        "    f.write(r.content)\n",
        "\n",
        "  r = requests.get('https://github.com/titu1994/tfdiffeq/releases/download/v0.0.1-pre0/ckpt.index')\n",
        "  with open('./model_weights/ckpt.index', 'wb') as f:\n",
        "    f.write(r.content)\n",
        "  \n",
        "  print(\"Pretrained checkpoints retrieved !\")"
      ],
      "execution_count": 0,
      "outputs": []
    },
    {
      "cell_type": "code",
      "metadata": {
        "id": "29RtKGxoV01d",
        "colab_type": "code",
        "outputId": "a88df675-ed4a-4c8a-e8b6-08f3259d68ed",
        "colab": {
          "base_uri": "https://localhost:8080/",
          "height": 34
        }
      },
      "source": [
        "get_checkpoints()"
      ],
      "execution_count": 29,
      "outputs": [
        {
          "output_type": "stream",
          "text": [
            "Pretrained checkpoints retrieved !\n"
          ],
          "name": "stdout"
        }
      ]
    },
    {
      "cell_type": "code",
      "metadata": {
        "id": "D-_0raHnGdzd",
        "colab_type": "code",
        "outputId": "24b77b5a-33c0-48f4-a2e4-ac219e11155e",
        "colab": {
          "base_uri": "https://localhost:8080/",
          "height": 34
        }
      },
      "source": [
        "model = LotkaVolteraTrainable(a, b, c, d)\n",
        "model.load_weights('model_weights/ckpt')"
      ],
      "execution_count": 30,
      "outputs": [
        {
          "output_type": "execute_result",
          "data": {
            "text/plain": [
              "<tensorflow.python.training.tracking.util.CheckpointLoadStatus at 0x7f51ae62f0b8>"
            ]
          },
          "metadata": {
            "tags": []
          },
          "execution_count": 30
        }
      ]
    },
    {
      "cell_type": "markdown",
      "metadata": {
        "id": "XtpdC7y4PZKF",
        "colab_type": "text"
      },
      "source": [
        "# Lets interpolate with our approximate universal ODE !\n",
        "\n",
        "With a trained Neural ODE that appxoximates the Lotka Voltera system with just 30 samples, lets interpolate within the same timeframe to get a fine solution to the coarse approximate."
      ]
    },
    {
      "cell_type": "code",
      "metadata": {
        "id": "OsA1wxZIpLXf",
        "colab_type": "code",
        "outputId": "6ced8e25-9fa0-4dd8-e229-d5a00ce8c33c",
        "colab": {
          "base_uri": "https://localhost:8080/",
          "height": 50
        }
      },
      "source": [
        "%%time\n",
        "\n",
        "t_eval = tf.linspace(0., 2, num=1000)  # Re-evaluate for just 2 seconds of input, but 1000 timesteps\n",
        "\n",
        "with tf.device(device):\n",
        "    model_results = odeint(model, initial_states, t_eval)\n",
        "    real_results = odeint(LotkaVoltera(a, b, c, d), initial_states, t_eval)"
      ],
      "execution_count": 31,
      "outputs": [
        {
          "output_type": "stream",
          "text": [
            "CPU times: user 1.88 s, sys: 13.8 ms, total: 1.9 s\n",
            "Wall time: 1.87 s\n"
          ],
          "name": "stdout"
        }
      ]
    },
    {
      "cell_type": "markdown",
      "metadata": {
        "id": "fS5zRscsP66o",
        "colab_type": "text"
      },
      "source": [
        "# Plot the ODE approximation !"
      ]
    },
    {
      "cell_type": "code",
      "metadata": {
        "id": "Q2xw2uOmzkOF",
        "colab_type": "code",
        "outputId": "031f5a4a-adad-42c3-8c98-a9549deb5cf5",
        "colab": {
          "base_uri": "https://localhost:8080/",
          "height": 288
        }
      },
      "source": [
        "plot_results(t_eval, real_results, labels=['Rabbit_real', 'Fox_real'])\n",
        "plot_results(t_eval, model_results, labels=['Rabbit_model', 'Fox_model'])"
      ],
      "execution_count": 32,
      "outputs": [
        {
          "output_type": "display_data",
          "data": {
            "image/png": "[encoded data removed]",
            "text/plain": [
              "<Figure size 460.8x316.8 with 1 Axes>"
            ]
          },
          "metadata": {
            "tags": []
          }
        }
      ]
    },
    {
      "cell_type": "markdown",
      "metadata": {
        "id": "UrkHnUmRQBSL",
        "colab_type": "text"
      },
      "source": [
        "# Lets try and obtain the underlying equations of this system"
      ]
    },
    {
      "cell_type": "code",
      "metadata": {
        "id": "M_erg_eulXfA",
        "colab_type": "code",
        "colab": {}
      },
      "source": [
        "real_results_np = real_results.numpy()\n",
        "model_preds_np = model_results.numpy()\n",
        "t_eval_np = t_eval.numpy()"
      ],
      "execution_count": 0,
      "outputs": []
    },
    {
      "cell_type": "code",
      "metadata": {
        "id": "1tr1mHnPljab",
        "colab_type": "code",
        "colab": {}
      },
      "source": [
        "from pysindy import SINDy\n",
        "from pysindy import SR3\n",
        "from pysindy.feature_library.polynomial_library import PolynomialLibrary\n",
        "\n",
        "# Import this optimizer for Ridge regression !\n",
        "from tfdiffeq.sindy_utils import STRRidge"
      ],
      "execution_count": 0,
      "outputs": []
    },
    {
      "cell_type": "markdown",
      "metadata": {
        "id": "UhoOsm-aQarS",
        "colab_type": "text"
      },
      "source": [
        "# Optimize hyper parameters of SRTRidge and the Polynomial Library"
      ]
    },
    {
      "cell_type": "code",
      "metadata": {
        "id": "9-e5B3mPTxN4",
        "colab_type": "code",
        "colab": {}
      },
      "source": [
        "# sindy_optm = SRTRidge(threshold=0.5, alpha=1.0)\n",
        "sindy_optm = SR3(threshold=0.1, nu=1.0, max_iter=100)\n",
        "sindy_library = PolynomialLibrary(degree=10, include_interaction=True,  interaction_only=True)"
      ],
      "execution_count": 0,
      "outputs": []
    },
    {
      "cell_type": "markdown",
      "metadata": {
        "id": "oZQeATEAQjEW",
        "colab_type": "text"
      },
      "source": [
        "# Lets fit the SInDy model !\n",
        "\n",
        "SInDy is short for \"Sparse Identification of Non-linear Dynamical Systems\" from the paper [Discovering governing equations from data by sparse identification of nonlinear dynamical systems](https://www.pnas.org/content/113/15/3932)"
      ]
    },
    {
      "cell_type": "code",
      "metadata": {
        "id": "1AaQQNHYRjW8",
        "colab_type": "code",
        "outputId": "6848feaa-d183-4cd5-dc78-59a92eb8bcc2",
        "colab": {
          "base_uri": "https://localhost:8080/",
          "height": 168
        }
      },
      "source": [
        "sindy_model = SINDy(optimizer=sindy_optm, feature_library=sindy_library, discrete_time=False)\n",
        "sindy_model.fit(model_preds_np, t_eval_np)"
      ],
      "execution_count": 36,
      "outputs": [
        {
          "output_type": "execute_result",
          "data": {
            "text/plain": [
              "SINDy(differentiation_method=<pysindy.differentiation.finite_difference.FiniteDifference object at 0x7f51ae6ce6a0>,\n",
              "      discrete_time=False,\n",
              "      feature_library=PolynomialLibrary(degree=10, include_bias=True,\n",
              "                                        include_interaction=True,\n",
              "                                        interaction_only=True, order='C'),\n",
              "      feature_names=['x0', 'x1'], n_jobs=1,\n",
              "      optimizer=SR3(copy_X=True, fit_intercept=False, max_iter=100,\n",
              "                    normalize=False, nu=1.0, threshold=0.1, thresholder='l0',\n",
              "                    tol=1e-05))"
            ]
          },
          "metadata": {
            "tags": []
          },
          "execution_count": 36
        }
      ]
    },
    {
      "cell_type": "markdown",
      "metadata": {
        "id": "Ha5dtT5ARD2X",
        "colab_type": "text"
      },
      "source": [
        "# Lets compare with the original equations\n",
        "\n",
        ">$\\frac{\\partial R}{\\partial T} = aR - bRF \\\\ \\frac{\\partial F}{\\partial T} = -cF + dRF$\n",
        "\n",
        "Recall, $a=1.5$, $b=1$, $c=3.0$, $d=1$\n",
        "\n",
        "We substitute $bRF$ with $U_1(R, F)$ in $\\frac{\\partial R}{\\partial T}$.\n",
        "\n",
        "We substitute $bRF$ with $U_2(R, F)$ in $\\frac{\\partial F}{\\partial T}$.\n",
        "\n",
        "--------\n",
        "\n",
        "We compare the above two equations with the one printed below.\n",
        "\n",
        "We get $a'=1.498$ which is quite close to $a=1.5$, $c'=2.993$, close to the original $c=3.0$.\n",
        "\n",
        "The equation below approximates $b'=0.997$, close to the $b=1$ we expect. $d'=0.999$ is a closer approximate to our original $d=1$.\n",
        "\n"
      ]
    },
    {
      "cell_type": "code",
      "metadata": {
        "id": "2cynYciQSHAu",
        "colab_type": "code",
        "outputId": "4b2fe9e9-6fa7-4229-bf27-514b881841be",
        "colab": {
          "base_uri": "https://localhost:8080/",
          "height": 50
        }
      },
      "source": [
        "sindy_model.print()"
      ],
      "execution_count": 37,
      "outputs": [
        {
          "output_type": "stream",
          "text": [
            "x0' = 1.498 x0 + -0.997 x0 x1\n",
            "x1' = -2.993 x1 + 0.999 x0 x1\n"
          ],
          "name": "stdout"
        }
      ]
    },
    {
      "cell_type": "code",
      "metadata": {
        "id": "_QJOTM3ESBWf",
        "colab_type": "code",
        "outputId": "a2139fd1-1987-4e4c-9ba5-8b1f04598a28",
        "colab": {
          "base_uri": "https://localhost:8080/",
          "height": 50
        }
      },
      "source": [
        "sindy_model.coefficients()"
      ],
      "execution_count": 38,
      "outputs": [
        {
          "output_type": "execute_result",
          "data": {
            "text/plain": [
              "array([[ 0.        ,  1.49801949,  0.        , -0.99657202],\n",
              "       [ 0.        ,  0.        , -2.99258126,  0.99857371]])"
            ]
          },
          "metadata": {
            "tags": []
          },
          "execution_count": 38
        }
      ]
    },
    {
      "cell_type": "code",
      "metadata": {
        "id": "hImAMyPXSIMV",
        "colab_type": "code",
        "outputId": "ebbd0e77-db31-4a38-9c3c-20c3e399dc39",
        "colab": {
          "base_uri": "https://localhost:8080/",
          "height": 34
        }
      },
      "source": [
        "sindy_model.equations()"
      ],
      "execution_count": 39,
      "outputs": [
        {
          "output_type": "execute_result",
          "data": {
            "text/plain": [
              "['1.498 x0 + -0.997 x0 x1', '-2.993 x1 + 0.999 x0 x1']"
            ]
          },
          "metadata": {
            "tags": []
          },
          "execution_count": 39
        }
      ]
    },
    {
      "cell_type": "markdown",
      "metadata": {
        "id": "ZPgviQUyTNpp",
        "colab_type": "text"
      },
      "source": [
        "# Compute the $R^2$ score "
      ]
    },
    {
      "cell_type": "code",
      "metadata": {
        "id": "I2nPkj4eTDX9",
        "colab_type": "code",
        "outputId": "35a339cc-81d6-433e-9f1d-a20c34534c36",
        "colab": {
          "base_uri": "https://localhost:8080/",
          "height": 34
        }
      },
      "source": [
        "sindy_model.score(model_preds_np, t_eval_np)"
      ],
      "execution_count": 40,
      "outputs": [
        {
          "output_type": "execute_result",
          "data": {
            "text/plain": [
              "0.9999294566666135"
            ]
          },
          "metadata": {
            "tags": []
          },
          "execution_count": 40
        }
      ]
    },
    {
      "cell_type": "markdown",
      "metadata": {
        "id": "agq0PpESS_Za",
        "colab_type": "text"
      },
      "source": [
        "# Finding the correct coefficients for the model\n",
        "\n",
        "We have the ode framework components which correspond to the neural network modules, but we cant be sure that the parameters found are correctly found by SInDy.\n",
        "\n",
        "We can refit the model (but now replacing correct components and removing the corresponding neural network component), and try to estimate the parameters from the train set."
      ]
    },
    {
      "cell_type": "code",
      "metadata": {
        "id": "GSNxY1f6Tone",
        "colab_type": "code",
        "colab": {}
      },
      "source": [
        "class LotkaVolteraParameters(tf.keras.Model):\n",
        "  \n",
        "  def __init__(self, **kwargs):\n",
        "    super().__init__(**kwargs)\n",
        "    \n",
        "    # Can also initialize with the values found above for much faster convergence !\n",
        "    # self.parameters = tf.Variable([1.498, 0.997, 2.993, 0.999], dtype=tf.float64)\n",
        "    self.parameters = tf.Variable(tf.random.uniform(shape=[4], dtype=tf.float64))\n",
        "  \n",
        "  @tf.function\n",
        "  def call(self, t, y):\n",
        "    # y = [R, F]\n",
        "    r, f = tf.unstack(y)\n",
        "\n",
        "    # Apply abs, because we want to ensure these parameters are > 0\n",
        "    params = tf.math.abs(self.parameters)\n",
        "    a, b, c, d = tf.unstack(params)\n",
        "    \n",
        "    dR_dT = a * r - b * r * f\n",
        "    dF_dT = -c * f + d * r * f\n",
        "    \n",
        "    return tf.stack([dR_dT, dF_dT])"
      ],
      "execution_count": 0,
      "outputs": []
    },
    {
      "cell_type": "code",
      "metadata": {
        "id": "7CnZSKYSUgGp",
        "colab_type": "code",
        "colab": {}
      },
      "source": [
        "t_train = tf.linspace(0., 2., num=30)  # Train for just 2 seconds of input\n",
        "initial_states_train = tf.convert_to_tensor([1, 1], dtype=tf.float64)\n",
        "\n",
        "epochs = 25\n",
        "initial_learning_rate = 0.1\n",
        "decay_steps = 100\n",
        "decay_rate = 0.5"
      ],
      "execution_count": 0,
      "outputs": []
    },
    {
      "cell_type": "code",
      "metadata": {
        "id": "asxNmXqFWZyn",
        "colab_type": "code",
        "outputId": "35d983e8-0c15-436b-ca94-f6140e643cc8",
        "colab": {
          "base_uri": "https://localhost:8080/",
          "height": 1000
        }
      },
      "source": [
        "%%time\n",
        "\n",
        "with tf.device(device):\n",
        "  model = LotkaVolteraParameters()\n",
        "\n",
        "  learning_rate = tf.keras.optimizers.schedules.ExponentialDecay(\n",
        "    initial_learning_rate, decay_steps, decay_rate, staircase=False,\n",
        "  )\n",
        "\n",
        "  optimizer = tf.keras.optimizers.Adam(learning_rate)\n",
        "\n",
        "  print(\"Computing ground truth...\")\n",
        "  y_real = odeint(LotkaVoltera(a, b, c, d), initial_states_train, t_train)\n",
        "\n",
        "  print(\"Ground truth shape :\", y_real.shape)\n",
        "\n",
        "  for epoch in range(epochs):\n",
        "    print(f\"Epoch {epoch + 1}\")\n",
        "\n",
        "    with tf.GradientTape() as tape:\n",
        "      preds = odeint(model, initial_states_train, t_train)\n",
        "      loss = tf.reduce_mean(tf.square(y_real - preds), axis=1)\n",
        "\n",
        "    grads = tape.gradient(loss, model.trainable_variables)\n",
        "    optimizer.apply_gradients(zip(grads, model.trainable_variables))\n",
        "\n",
        "    print(\"Loss :\", loss.numpy().mean())\n",
        "    print(\"LR :\", learning_rate(optimizer.iterations).numpy())\n",
        "    print()"
      ],
      "execution_count": 43,
      "outputs": [
        {
          "output_type": "stream",
          "text": [
            "Computing ground truth...\n",
            "Ground truth shape : (30, 2)\n",
            "Epoch 1\n",
            "Loss : 5.131285589600938\n",
            "LR : 0.09930925\n",
            "\n",
            "Epoch 2\n",
            "Loss : 4.303921480640789\n",
            "LR : 0.09862327\n",
            "\n",
            "Epoch 3\n",
            "Loss : 3.4453021057177344\n",
            "LR : 0.09794203\n",
            "\n",
            "Epoch 4\n",
            "Loss : 2.53475530333001\n",
            "LR : 0.0972655\n",
            "\n",
            "Epoch 5\n",
            "Loss : 1.5829151808680677\n",
            "LR : 0.09659363\n",
            "\n",
            "Epoch 6\n",
            "Loss : 1.3064334620214877\n",
            "LR : 0.09592641\n",
            "\n",
            "Epoch 7\n",
            "Loss : 0.9324396946964507\n",
            "LR : 0.0952638\n",
            "\n",
            "Epoch 8\n",
            "Loss : 0.5253288384566731\n",
            "LR : 0.094605766\n",
            "\n",
            "Epoch 9\n",
            "Loss : 0.22677009883334368\n",
            "LR : 0.093952276\n",
            "\n",
            "Epoch 10\n",
            "Loss : 0.19491807516291765\n",
            "LR : 0.0933033\n",
            "\n",
            "Epoch 11\n",
            "Loss : 0.4522553016865399\n",
            "LR : 0.09265881\n",
            "\n",
            "Epoch 12\n",
            "Loss : 0.6727868668181067\n",
            "LR : 0.09201877\n",
            "\n",
            "Epoch 13\n",
            "Loss : 0.5703617293845564\n",
            "LR : 0.09138315\n",
            "\n",
            "Epoch 14\n",
            "Loss : 0.2882086806664751\n",
            "LR : 0.090751916\n",
            "\n",
            "Epoch 15\n",
            "Loss : 0.1018834061838672\n",
            "LR : 0.09012505\n",
            "\n",
            "Epoch 16\n",
            "Loss : 0.14144614704281383\n",
            "LR : 0.089502506\n",
            "\n",
            "Epoch 17\n",
            "Loss : 0.30309522541398043\n",
            "LR : 0.08888427\n",
            "\n",
            "Epoch 18\n",
            "Loss : 0.387262619459112\n",
            "LR : 0.0882703\n",
            "\n",
            "Epoch 19\n",
            "Loss : 0.34315075410897933\n",
            "LR : 0.08766057\n",
            "\n",
            "Epoch 20\n",
            "Loss : 0.22837731997536387\n",
            "LR : 0.08705506\n",
            "\n",
            "Epoch 21\n",
            "Loss : 0.12311421632361948\n",
            "LR : 0.08645373\n",
            "\n",
            "Epoch 22\n",
            "Loss : 0.08910871490392144\n",
            "LR : 0.08585655\n",
            "\n",
            "Epoch 23\n",
            "Loss : 0.13412857881185503\n",
            "LR : 0.08526349\n",
            "\n",
            "Epoch 24\n",
            "Loss : 0.20332195257164448\n",
            "LR : 0.08467453\n",
            "\n",
            "Epoch 25\n",
            "Loss : 0.22837076318012497\n",
            "LR : 0.084089644\n",
            "\n",
            "CPU times: user 12.6 s, sys: 227 ms, total: 12.8 s\n",
            "Wall time: 12.5 s\n"
          ],
          "name": "stdout"
        }
      ]
    },
    {
      "cell_type": "code",
      "metadata": {
        "id": "EnGd-_uLYiCp",
        "colab_type": "code",
        "colab": {}
      },
      "source": [
        "tolerance = 1e-6\n",
        "bfgs_optimizer = BFGSOptimizer(max_iterations=50, tolerance=tolerance)"
      ],
      "execution_count": 0,
      "outputs": []
    },
    {
      "cell_type": "code",
      "metadata": {
        "id": "aOsUQZn8YiG_",
        "colab_type": "code",
        "colab": {}
      },
      "source": [
        "def loss_wrapper(model):\n",
        "  # Can use `adjoing_odeint` here as replacement for `adjoint_odeint`\n",
        "  preds = odeint(model, initial_states_train, t_train, atol=1e-6, rtol=1e-6)\n",
        "  loss = tf.reduce_mean(tf.square(y_real - preds))\n",
        "  return loss"
      ],
      "execution_count": 0,
      "outputs": []
    },
    {
      "cell_type": "code",
      "metadata": {
        "id": "NCaGXByCYiKv",
        "colab_type": "code",
        "outputId": "d513f781-8123-4751-b01f-df8ed7413996",
        "colab": {
          "base_uri": "https://localhost:8080/",
          "height": 1000
        }
      },
      "source": [
        "model = bfgs_optimizer.minimize(loss_wrapper, model)"
      ],
      "execution_count": 46,
      "outputs": [
        {
          "output_type": "stream",
          "text": [
            "Iter: 1 loss: 0.19037971791400043\n",
            "Iter: 2 loss: 7.5809400878738309\n",
            "Iter: 3 loss: 7.2664869212974956\n",
            "Iter: 4 loss: 4.5374354808123316\n",
            "Iter: 5 loss: 1.485828271461\n",
            "Iter: 6 loss: 0.19868456432738371\n",
            "Iter: 7 loss: 0.10172178783827857\n",
            "Iter: 8 loss: 7.1596354029101539\n",
            "Iter: 9 loss: 0.09915243597269062\n",
            "Iter: 10 loss: 2.8009774450042912\n",
            "Iter: 11 loss: 0.19581139730851602\n",
            "Iter: 12 loss: 0.084822440847361472\n",
            "Iter: 13 loss: 0.55315463979379231\n",
            "Iter: 14 loss: 0.078742003773469751\n",
            "Iter: 15 loss: 0.11895972442669572\n",
            "Iter: 16 loss: 0.068080299843072262\n",
            "Iter: 17 loss: 0.06624039083542875\n",
            "Iter: 18 loss: 0.058775195780415311\n",
            "Iter: 19 loss: 0.052119997832502624\n",
            "Iter: 20 loss: 0.087363348451291983\n",
            "Iter: 21 loss: 0.050449600681711525\n",
            "Iter: 22 loss: 0.039193476961317392\n",
            "Iter: 23 loss: 0.10556207351628887\n",
            "Iter: 24 loss: 0.03581395292983644\n",
            "Iter: 25 loss: 0.024543633421660278\n",
            "Iter: 26 loss: 0.37927917017948387\n",
            "Iter: 27 loss: 0.024330390069166048\n",
            "Iter: 28 loss: 0.014685770556346216\n",
            "Iter: 29 loss: 0.034614378438612564\n",
            "Iter: 30 loss: 0.013444325423265062\n",
            "Iter: 31 loss: 0.004864312998197339\n",
            "Iter: 32 loss: 0.0045658012598102484\n",
            "Iter: 33 loss: 0.00380868766897927\n",
            "Iter: 34 loss: 0.0036687841456376066\n",
            "Iter: 35 loss: 0.0025431442766904338\n",
            "Iter: 36 loss: 0.0041893327492584136\n",
            "Iter: 37 loss: 0.0021183115251420231\n",
            "Iter: 38 loss: 0.0017365089236133062\n",
            "Iter: 39 loss: 0.0041152122102040946\n",
            "Iter: 40 loss: 0.0016995240820840746\n",
            "Iter: 41 loss: 0.0016100968930286891\n",
            "Iter: 42 loss: 0.0014564661646034262\n",
            "Iter: 43 loss: 0.0014564343743362351\n",
            "Iter: 44 loss: 0.0012344295441031226\n",
            "Iter: 45 loss: 0.0015228554995505863\n",
            "Iter: 46 loss: 0.0011006653939022635\n",
            "Iter: 47 loss: 0.00059310055762110776\n",
            "Iter: 48 loss: 0.0010549529813390344\n",
            "Iter: 49 loss: 0.00026803593661128415\n",
            "Iter: 50 loss: 0.00011033087410444949\n",
            "Iter: 51 loss: 9.3547597139096976e-05\n",
            "Iter: 52 loss: 1.4619010589294163e-05\n",
            "Iter: 53 loss: 0.00051226293769053262\n",
            "Iter: 54 loss: 5.347017122458935e-06\n",
            "Iter: 55 loss: 3.6918476371026073e-07\n",
            "Iter: 56 loss: 8.0690936584119858e-05\n",
            "Iter: 57 loss: 3.6645666664082854e-07\n",
            "Iter: 58 loss: 4.7858798576838614e-09\n",
            "Iter: 59 loss: 4.3844061216580544e-06\n",
            "Iter: 60 loss: 4.2879879790868241e-10\n",
            "Iter: 61 loss: 1.2092982122373789e-11\n",
            "Iter: 62 loss: 1.1995178060056404e-11\n",
            "Iter: 63 loss: 1.1152340231464788e-11\n",
            "Iter: 64 loss: 2.2296243625759128e-11\n",
            "Iter: 65 loss: 1.1147618510974669e-11\n",
            "BFGS complete, and parameters updated !\n"
          ],
          "name": "stdout"
        }
      ]
    },
    {
      "cell_type": "markdown",
      "metadata": {
        "id": "h2JGIGK7aOi-",
        "colab_type": "text"
      },
      "source": [
        "## Lets print the learned parameters of this ODE"
      ]
    },
    {
      "cell_type": "code",
      "metadata": {
        "id": "OOSLwpc-aNSw",
        "colab_type": "code",
        "outputId": "f1096b15-cdd1-4a5b-edee-8f89e8bbe29b",
        "colab": {
          "base_uri": "https://localhost:8080/",
          "height": 34
        }
      },
      "source": [
        "params = tf.math.abs(model.trainable_variables[0])\n",
        "params.numpy().tolist()"
      ],
      "execution_count": 47,
      "outputs": [
        {
          "output_type": "execute_result",
          "data": {
            "text/plain": [
              "[1.4999991388905172, 0.999996220820509, 2.9999761581124833, 0.9999915705361759]"
            ]
          },
          "metadata": {
            "tags": []
          },
          "execution_count": 47
        }
      ]
    },
    {
      "cell_type": "markdown",
      "metadata": {
        "id": "scoYwBqEWrvc",
        "colab_type": "text"
      },
      "source": [
        "# Finally, lets extrapolate the derived ODE !"
      ]
    },
    {
      "cell_type": "code",
      "metadata": {
        "id": "BdluyouWWwgu",
        "colab_type": "code",
        "outputId": "4ab10d99-365d-4830-fbe8-d19c098a12a5",
        "colab": {
          "base_uri": "https://localhost:8080/",
          "height": 50
        }
      },
      "source": [
        "%%time\n",
        "\n",
        "a_dash = 1.4999991388905172\n",
        "b_dash = 0.9999962208205090\n",
        "c_dash = 2.9999761581124833\n",
        "d_dash = 0.9999915705361759\n",
        "\n",
        "t_extrapolate = tf.linspace(0., 10.0, num=1000)  # Train for just 3 seconds of input\n",
        "initial_states_extrapolate = tf.convert_to_tensor([1, 1], dtype=tf.float64)\n",
        "\n",
        "with tf.device(device):\n",
        "    extrapolation_model = LotkaVoltera(a_dash, b_dash, c_dash, d_dash)\n",
        "    extrapolated_results = odeint(extrapolation_model, initial_states_extrapolate, t_extrapolate)\n",
        "    real_results = odeint(LotkaVoltera(a, b, c, d), initial_states_extrapolate, t_extrapolate)"
      ],
      "execution_count": 48,
      "outputs": [
        {
          "output_type": "stream",
          "text": [
            "CPU times: user 4.49 s, sys: 82.5 ms, total: 4.57 s\n",
            "Wall time: 4.44 s\n"
          ],
          "name": "stdout"
        }
      ]
    },
    {
      "cell_type": "code",
      "metadata": {
        "id": "vwlHQDtRXnNj",
        "colab_type": "code",
        "outputId": "8766af8d-cd41-4416-b47e-215eced1c6cd",
        "colab": {
          "base_uri": "https://localhost:8080/",
          "height": 288
        }
      },
      "source": [
        "plot_results(t_extrapolate, real_results, labels=['Rabbit_real', 'Fox_real'])\n",
        "plot_results(t_extrapolate, extrapolated_results, labels=['Rabbit_model', 'Fox_model'])"
      ],
      "execution_count": 49,
      "outputs": [
        {
          "output_type": "display_data",
          "data": {
            "image/png": "[encoded data removed]",
            "text/plain": [
              "<Figure size 460.8x316.8 with 1 Axes>"
            ]
          },
          "metadata": {
            "tags": []
          }
        }
      ]
    },
    {
      "cell_type": "code",
      "metadata": {
        "id": "UcNJfcW-YnGM",
        "colab_type": "code",
        "colab": {}
      },
      "source": [
        ""
      ],
      "execution_count": 0,
      "outputs": []
    },
    {
      "cell_type": "code",
      "metadata": {
        "id": "fo0XXskMfkrv",
        "colab_type": "code",
        "colab": {}
      },
      "source": [
        ""
      ],
      "execution_count": 0,
      "outputs": []
    }
  ]
}